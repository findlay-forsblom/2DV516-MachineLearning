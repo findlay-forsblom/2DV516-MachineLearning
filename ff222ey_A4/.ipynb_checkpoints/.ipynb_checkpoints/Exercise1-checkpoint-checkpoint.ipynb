{
 "cells": [
  {
   "cell_type": "code",
   "execution_count": 1,
   "metadata": {},
   "outputs": [],
   "source": [
    "import pandas as pd\n",
    "import numpy as np"
   ]
  },
  {
   "cell_type": "code",
   "execution_count": null,
   "metadata": {},
   "outputs": [],
   "source": [
    "def bkmeans (X, k, itera = 10):\n",
    "    clusters = 0\n",
    "    all_labels = np.zeros(X.shape[0], dtype = 'int64')\n",
    "    largest_cluster = X\n",
    "    ind = np.where(all_labels == 0)\n",
    "    cluster_num = 0\n",
    "    while clusters < k-1:\n",
    "        # Divides the cluster into 2\n",
    "        clusters +=1\n",
    "        kmeans = KMeans(n_clusters=2, n_init = itera).fit(largest_cluster)\n",
    "        labels = kmeans.labels_\n",
    "        \n",
    "        pos_ind = np.where(labels == 1)\n",
    "        neg_ind = np.where(labels == 0)\n",
    "        labels[neg_ind] = cluster_num\n",
    "        labels[pos_ind] = clusters\n",
    "        print(f'labels is {labels}')\n",
    "        all_labels[ind] = labels\n",
    "        \n",
    "         # Finds the largest cluster\n",
    "        counts = np.bincount(all_labels)\n",
    "        most_common = np.argmax(counts)\n",
    "        ind = np.where(most_common == all_labels)\n",
    "        \n",
    "        largest_cluster = X[ind]\n",
    "        cluster_num = all_labels[ind][0]\n",
    "       \n",
    "    return all_labels"
   ]
  }
 ],
 "metadata": {
  "kernelspec": {
   "display_name": "Python 3",
   "language": "python",
   "name": "python3"
  },
  "language_info": {
   "codemirror_mode": {
    "name": "ipython",
    "version": 3
   },
   "file_extension": ".py",
   "mimetype": "text/x-python",
   "name": "python",
   "nbconvert_exporter": "python",
   "pygments_lexer": "ipython3",
   "version": "3.7.7"
  }
 },
 "nbformat": 4,
 "nbformat_minor": 4
}
